{
 "cells": [
  {
   "cell_type": "code",
   "execution_count": null,
   "id": "a3cb594a",
   "metadata": {},
   "outputs": [],
   "source": [
    "#a = np.array([4, 10, 12, 23, -2, -1, 0, 0, 0, -6, 3, -7])*/\n",
    "\n",
    "#1 How many negative numbers are there?\n",
    "\n",
    "#2 How many positive numbers are there?\n",
    "\n",
    "#3 How many even positive numbers are there?\n",
    "\n",
    "#4 If you were to add 3 to each data point, how many positive numbers would there be?\n",
    "\n",
    "#5 If you squared each number, what would the new mean and standard deviation be?\n",
    "\n",
    "#6 A common statistical operation on a dataset is centering. This means to adjust the data such that \n",
    "# the mean of the data is 0. This is done by subtracting the mean from each data point. \n",
    "# Center the data set. See this link for more on centering.\n",
    "\n",
    "#7 Calculate the z-score for each data point. Recall that the z-score is given by:\n",
    "\n",
    "# Z =x−μ/σ\n",
    "\n",
    "#8 Copy the setup and exercise directions from More Numpy Practice into your numpy_exercises.py and add \n",
    "# your solutions.\n",
    "\n",
    "#Awesome Bonus For much more practice with numpy, Go to https://github.com/rougier/numpy-100 and clone \n",
    "# the repo down to your laptop. To clone a repository: - Copy the SSH address of the repository - \n",
    "# cd ~/codeup-data-science - Then type git clone git@github.com:rougier/numpy-100.git - \n",
    "# Now do cd numpy-100 on your terminal. - Type git remote remove origin, so you won't accidentally try to \n",
    "# push your work to Rougier's repo.\n",
    "\n",
    "#Congratulations! You have cloned Rougier's 100 numpy exercises to your computer. Now you need to make a new, \n",
    "#blank, repository on GitHub.\n",
    "\n",
    "#Go to https://github.com/new to make a new repo. Name it numpy-100.\n",
    "#DO NOT check any check boxes. We need a blank, empty repo.\n",
    "#Finally, follow the directions to \"push an existing repository from the command line\" so that you can push up your changes to your own account.\n",
    "#Now do work, add it, commit it, and push it!"
   ]
  },
  {
   "cell_type": "code",
   "execution_count": 1,
   "id": "64fc5f8a",
   "metadata": {},
   "outputs": [],
   "source": [
    "import numpy as np"
   ]
  },
  {
   "cell_type": "code",
   "execution_count": 2,
   "id": "83511d06",
   "metadata": {},
   "outputs": [],
   "source": [
    "a = np.array([4, 10, 12, 23, -2, -1, 0, 0, 0, -6, 3, -7])\n",
    "\n"
   ]
  },
  {
   "cell_type": "code",
   "execution_count": 3,
   "id": "94e387f5",
   "metadata": {},
   "outputs": [
    {
     "data": {
      "text/plain": [
       "4"
      ]
     },
     "execution_count": 3,
     "metadata": {},
     "output_type": "execute_result"
    }
   ],
   "source": [
    "#1 How many negative numbers are there?\n",
    "np.sum(np.array(a) < 0, axis=0)"
   ]
  },
  {
   "cell_type": "code",
   "execution_count": 4,
   "id": "78c9b5e7",
   "metadata": {},
   "outputs": [
    {
     "data": {
      "text/plain": [
       "array([False, False, False, False,  True,  True, False, False, False,\n",
       "        True, False,  True])"
      ]
     },
     "execution_count": 4,
     "metadata": {},
     "output_type": "execute_result"
    }
   ],
   "source": [
    "a < 0"
   ]
  },
  {
   "cell_type": "code",
   "execution_count": 5,
   "id": "a4a40539",
   "metadata": {},
   "outputs": [
    {
     "data": {
      "text/plain": [
       "array([ 4, 10, 12, 23, -2, -1,  0,  0,  0, -6,  3, -7])"
      ]
     },
     "execution_count": 5,
     "metadata": {},
     "output_type": "execute_result"
    }
   ],
   "source": [
    "#andrews example\n",
    "a<0\n",
    "a"
   ]
  },
  {
   "cell_type": "code",
   "execution_count": 6,
   "id": "230e72c3",
   "metadata": {},
   "outputs": [
    {
     "data": {
      "text/plain": [
       "array([-2, -1, -6, -7])"
      ]
     },
     "execution_count": 6,
     "metadata": {},
     "output_type": "execute_result"
    }
   ],
   "source": [
    "a[a<0]"
   ]
  },
  {
   "cell_type": "code",
   "execution_count": 7,
   "id": "7fae3e9e",
   "metadata": {},
   "outputs": [
    {
     "data": {
      "text/plain": [
       "4"
      ]
     },
     "execution_count": 7,
     "metadata": {},
     "output_type": "execute_result"
    }
   ],
   "source": [
    "len(a[a<0])"
   ]
  },
  {
   "cell_type": "code",
   "execution_count": 8,
   "id": "084292d3",
   "metadata": {},
   "outputs": [
    {
     "data": {
      "text/plain": [
       "5"
      ]
     },
     "execution_count": 8,
     "metadata": {},
     "output_type": "execute_result"
    }
   ],
   "source": [
    "#2 How many positive numbers are there?\n",
    "\n",
    "import numpy as np\n",
    "\n",
    "np.sum(np.array(a) > 0, axis=0)\n"
   ]
  },
  {
   "cell_type": "code",
   "execution_count": 9,
   "id": "2018f6cd",
   "metadata": {},
   "outputs": [
    {
     "data": {
      "text/plain": [
       "5"
      ]
     },
     "execution_count": 9,
     "metadata": {},
     "output_type": "execute_result"
    }
   ],
   "source": [
    "#andrews ex\n",
    "pos_num = a[a>0]\n",
    "pos_num = [pos_num %2. ==  0]\n",
    "len(a[a>0])"
   ]
  },
  {
   "cell_type": "code",
   "execution_count": 10,
   "id": "5010cb08",
   "metadata": {},
   "outputs": [
    {
     "data": {
      "text/plain": [
       "3"
      ]
     },
     "execution_count": 10,
     "metadata": {},
     "output_type": "execute_result"
    }
   ],
   "source": [
    "#3 How many even positive numbers are there?\n",
    "#np.count_nonzero(a % 2 == 0) \n",
    "pos_a = a[a > 0]\n",
    "pos_a[pos_a % 2 == 0]\n",
    "len(pos_a[pos_a % 2 == 0])"
   ]
  },
  {
   "cell_type": "code",
   "execution_count": 11,
   "id": "f649fa45",
   "metadata": {},
   "outputs": [
    {
     "data": {
      "text/plain": [
       "10"
      ]
     },
     "execution_count": 11,
     "metadata": {},
     "output_type": "execute_result"
    }
   ],
   "source": [
    "#4 If you were to add 3 to each data point, how many positive numbers would there be?\n",
    "add_3 = a + 3\n",
    "add_3[add_3 > 0].size"
   ]
  },
  {
   "cell_type": "code",
   "execution_count": 12,
   "id": "e11e7e38",
   "metadata": {},
   "outputs": [
    {
     "data": {
      "text/plain": [
       "10"
      ]
     },
     "execution_count": 12,
     "metadata": {},
     "output_type": "execute_result"
    }
   ],
   "source": [
    "len(a[(a+3)>0])"
   ]
  },
  {
   "cell_type": "code",
   "execution_count": 13,
   "id": "d70bf31a",
   "metadata": {},
   "outputs": [
    {
     "data": {
      "text/plain": [
       "74.0"
      ]
     },
     "execution_count": 13,
     "metadata": {},
     "output_type": "execute_result"
    }
   ],
   "source": [
    "#5 If you squared each number, what would the new mean and standard deviation be?\n",
    "a_square = a**2\n",
    "a_square.mean()"
   ]
  },
  {
   "cell_type": "code",
   "execution_count": 14,
   "id": "97d455de",
   "metadata": {},
   "outputs": [
    {
     "data": {
      "text/plain": [
       "144.0243035046516"
      ]
     },
     "execution_count": 14,
     "metadata": {},
     "output_type": "execute_result"
    }
   ],
   "source": [
    "a_square.std()"
   ]
  },
  {
   "cell_type": "code",
   "execution_count": 15,
   "id": "00193a7d",
   "metadata": {},
   "outputs": [
    {
     "data": {
      "text/plain": [
       "0.0"
      ]
     },
     "execution_count": 15,
     "metadata": {},
     "output_type": "execute_result"
    }
   ],
   "source": [
    "#6 A common statistical operation on a dataset is centering. This means to adjust the data such that \n",
    "# the mean of the data is 0. This is done by subtracting the mean from each data point. \n",
    "# Center the data set. See this link for more on centering.\n",
    "\n",
    "a.mean()\n",
    "center_array = a - a.mean()\n",
    "center_array\n",
    "center_array.mean()"
   ]
  },
  {
   "cell_type": "code",
   "execution_count": 16,
   "id": "2368b14d",
   "metadata": {},
   "outputs": [
    {
     "data": {
      "text/plain": [
       "0.0"
      ]
     },
     "execution_count": 16,
     "metadata": {},
     "output_type": "execute_result"
    }
   ],
   "source": [
    "center_array.mean()"
   ]
  },
  {
   "cell_type": "code",
   "execution_count": 17,
   "id": "6b5cb605",
   "metadata": {},
   "outputs": [
    {
     "data": {
      "text/plain": [
       "array([ 0.12403473,  0.86824314,  1.11631261,  2.48069469, -0.62017367,\n",
       "       -0.49613894, -0.3721042 , -0.3721042 , -0.3721042 , -1.11631261,\n",
       "        0.        , -1.24034735])"
      ]
     },
     "execution_count": 17,
     "metadata": {},
     "output_type": "execute_result"
    }
   ],
   "source": [
    "#7 Calculate the z-score for each data point. Recall that the z-score is given by:\n",
    "\n",
    "# Z =x−μ/σ\n",
    "(a - a.mean()) / a.std()\n",
    "\n"
   ]
  },
  {
   "cell_type": "code",
   "execution_count": 18,
   "id": "9dbf3e5f",
   "metadata": {},
   "outputs": [
    {
     "ename": "NameError",
     "evalue": "name 'centered_a' is not defined",
     "output_type": "error",
     "traceback": [
      "\u001b[0;31m---------------------------------------------------------------------------\u001b[0m",
      "\u001b[0;31mNameError\u001b[0m                                 Traceback (most recent call last)",
      "Input \u001b[0;32mIn [18]\u001b[0m, in \u001b[0;36m<cell line: 1>\u001b[0;34m()\u001b[0m\n\u001b[0;32m----> 1\u001b[0m z_score \u001b[38;5;241m=\u001b[39m \u001b[43mcentered_a\u001b[49m \u001b[38;5;241m/\u001b[39m a\u001b[38;5;241m.\u001b[39mstd()\n",
      "\u001b[0;31mNameError\u001b[0m: name 'centered_a' is not defined"
     ]
    }
   ],
   "source": [
    "z_score = centered_a / a.std()\n"
   ]
  },
  {
   "cell_type": "code",
   "execution_count": null,
   "id": "30dd297f",
   "metadata": {},
   "outputs": [],
   "source": [
    "#8 Copy the setup and exercise directions from More Numpy Practice into your numpy_exercises.py and add \n",
    "# your solutions."
   ]
  },
  {
   "cell_type": "code",
   "execution_count": null,
   "id": "1e5e7202",
   "metadata": {},
   "outputs": [],
   "source": [
    "import numpy as np\n",
    "# Life w/o numpy to life with numpy\n",
    "\n",
    "## Setup 1\n",
    "a = [1, 2, 3, 4, 5, 6, 7, 8, 9, 10]\n",
    "a = np.array(a)\n",
    "\n",
    "# Use python's built in functionality/operators to determine the following:\n"
   ]
  },
  {
   "cell_type": "code",
   "execution_count": null,
   "id": "770c60db",
   "metadata": {},
   "outputs": [],
   "source": [
    "# Use python's built in functionality/operators to determine the following:\n",
    "# Exercise 1 - Make a variable called sum_of_a to hold the sum of all the numbers in above list\n",
    "\n",
    "sum_of_a = np.sum(a)\n",
    "sum_of_a\n",
    "#sum(a)"
   ]
  },
  {
   "cell_type": "code",
   "execution_count": null,
   "id": "2e8dab31",
   "metadata": {},
   "outputs": [],
   "source": []
  },
  {
   "cell_type": "code",
   "execution_count": null,
   "id": "cf74f71c",
   "metadata": {},
   "outputs": [],
   "source": [
    "# Exercise 2 - Make a variable named min_of_a to hold the minimum of all the numbers in the above list\n",
    "min_of_a = a.min()\n",
    "min_of_a\n",
    "#min(a)"
   ]
  },
  {
   "cell_type": "code",
   "execution_count": null,
   "id": "b64d89ea",
   "metadata": {},
   "outputs": [],
   "source": [
    "# Exercise 3 - Make a variable named max_of_a to hold the max number of all the numbers in the above list\n",
    "max_of_a = a.max()\n",
    "max_of_a\n",
    "#max(a)"
   ]
  },
  {
   "cell_type": "code",
   "execution_count": null,
   "id": "1bb45ed0",
   "metadata": {},
   "outputs": [],
   "source": [
    "# Exercise 4 - Make a variable named mean_of_a to hold the average of all the numbers in the above list\n",
    "mean_of_a = a.mean()\n",
    "mean_of_a\n",
    "#mean(a)"
   ]
  },
  {
   "cell_type": "code",
   "execution_count": null,
   "id": "9f6d4154",
   "metadata": {},
   "outputs": [],
   "source": [
    "# Exercise 5 - Make a variable named product_of_a to hold the product of multiplying all the numbers in the \n",
    "#above list together\n",
    "product_of_a = np.prod(a)\n",
    "product_of_a"
   ]
  },
  {
   "cell_type": "code",
   "execution_count": null,
   "id": "fde6f7d1",
   "metadata": {},
   "outputs": [],
   "source": [
    "product_of_a = 1\n",
    "for n in a:\n",
    "    product_of_a *= n"
   ]
  },
  {
   "cell_type": "code",
   "execution_count": null,
   "id": "8b7df17b",
   "metadata": {},
   "outputs": [],
   "source": [
    "# Exercise 6 - Make a variable named squares_of_a. It should hold each number in a squared like [1, 4, 9, 16, 25...]\n",
    "\n",
    "squares_of_a = np.square(a)\n",
    "squares_of_a"
   ]
  },
  {
   "cell_type": "code",
   "execution_count": null,
   "id": "26ebd042",
   "metadata": {},
   "outputs": [],
   "source": [
    "[n**2 for n in a]"
   ]
  },
  {
   "cell_type": "code",
   "execution_count": null,
   "id": "55526cd1",
   "metadata": {},
   "outputs": [],
   "source": [
    "# Exercise 7 - Make a variable named odds_in_a. It should hold only the odd numbers\n",
    "odds_in_a = a[a % 2 != 0].size\n",
    "odds_in_a"
   ]
  },
  {
   "cell_type": "code",
   "execution_count": null,
   "id": "a6a5def6",
   "metadata": {},
   "outputs": [],
   "source": [
    " 2 !=0][n for n in a if n %]"
   ]
  },
  {
   "cell_type": "code",
   "execution_count": null,
   "id": "96560ac8",
   "metadata": {},
   "outputs": [],
   "source": [
    "# Exercise 8 - Make a variable named evens_in_a. It should hold only the evens.\n",
    "evens_in_a = a[a % 2 == 0].size\n",
    "evens_in_a\n"
   ]
  },
  {
   "cell_type": "code",
   "execution_count": null,
   "id": "206ac7a1",
   "metadata": {},
   "outputs": [],
   "source": [
    "n for n"
   ]
  },
  {
   "cell_type": "code",
   "execution_count": null,
   "id": "9eb4607a",
   "metadata": {},
   "outputs": [],
   "source": [
    "## What about life in two dimensions? A list of lists is matrix, a table, a spreadsheet, a chessboard...\n",
    "## Setup 2: Consider what it would take to find the sum, min, max, average, sum, product, and list of squares \n",
    "#for this list of two lists.\n",
    "b = [\n",
    "    [3, 4, 5],\n",
    "    [6, 7, 8]\n",
    "]\n",
    "\n",
    "b2 = np.array(b)\n"
   ]
  },
  {
   "cell_type": "code",
   "execution_count": null,
   "id": "3e648a90",
   "metadata": {},
   "outputs": [],
   "source": [
    "#sum\n",
    "sum_of_b2 = np.sum(b)\n",
    "sum_of_b2"
   ]
  },
  {
   "cell_type": "code",
   "execution_count": null,
   "id": "88b36278",
   "metadata": {},
   "outputs": [],
   "source": [
    "#min\n",
    "b2.min()"
   ]
  },
  {
   "cell_type": "code",
   "execution_count": null,
   "id": "2e830f60",
   "metadata": {},
   "outputs": [],
   "source": [
    "#max\n",
    "b2.max()"
   ]
  },
  {
   "cell_type": "code",
   "execution_count": null,
   "id": "badc4c0c",
   "metadata": {},
   "outputs": [],
   "source": [
    "#mean\n",
    "b2.mean()"
   ]
  },
  {
   "cell_type": "code",
   "execution_count": null,
   "id": "96519a5c",
   "metadata": {},
   "outputs": [],
   "source": [
    "#product\n",
    "product_of_b2 = np.prod(b2)\n",
    "product_of_b2"
   ]
  },
  {
   "cell_type": "code",
   "execution_count": null,
   "id": "26536603",
   "metadata": {},
   "outputs": [],
   "source": [
    "#list of squares \n",
    "squares_of_b2 = np.square(b2)\n",
    "squares_of_b2"
   ]
  },
  {
   "cell_type": "code",
   "execution_count": null,
   "id": "fd075940",
   "metadata": {},
   "outputs": [],
   "source": [
    "# Exercise 1 - refactor the following to use numpy. Use sum_of_b as the variable. \n",
    "#**Hint, you'll first need to make sure that the \"b\" variable is a numpy array**\n",
    "sum_of_b2 = 0\n",
    "for row in b2:\n",
    "    sum_of_b2 += sum(row)\n",
    "b2.sum()"
   ]
  },
  {
   "cell_type": "code",
   "execution_count": null,
   "id": "fd1a4184",
   "metadata": {},
   "outputs": [],
   "source": [
    "# Exercise 2 - refactor the following to use numpy. \n",
    "min_of_b2 = min(b2[0]) if min(b2[0]) <= min(b2[1]) else min(b2[1]) \n",
    "min_of_b2\n",
    "\n"
   ]
  },
  {
   "cell_type": "code",
   "execution_count": null,
   "id": "dbe9144d",
   "metadata": {},
   "outputs": [],
   "source": [
    "# Exercise 3 - refactor the following maximum calculation to find the answer with numpy.\n",
    "max_of_b2 = max(b2[0]) if max(b2[0]) >= max(b2[1]) else max(b2[1])\n",
    "max_of_b2"
   ]
  },
  {
   "cell_type": "code",
   "execution_count": null,
   "id": "684e742d",
   "metadata": {},
   "outputs": [],
   "source": [
    "\n",
    "# Exercise 4 - refactor the following using numpy to find the mean of b\n",
    "mean_of_b2 = (sum(b2[0]) + sum(b2[1])) / (len(b2[0]) + len(b2[1]))\n",
    "mean_of_b2"
   ]
  },
  {
   "cell_type": "code",
   "execution_count": null,
   "id": "48f88e6d",
   "metadata": {},
   "outputs": [],
   "source": [
    "# Exercise 5 - refactor the following to use numpy for calculating the product of all numbers multiplied together.\n",
    "product_of_b2 = 1\n",
    "for row in b2:\n",
    "    for number in row:\n",
    "        product_of_b2 *= number\n",
    "\n"
   ]
  },
  {
   "cell_type": "code",
   "execution_count": null,
   "id": "a9acc450",
   "metadata": {},
   "outputs": [],
   "source": [
    "np.prod(b2)"
   ]
  },
  {
   "cell_type": "code",
   "execution_count": null,
   "id": "283814f2",
   "metadata": {},
   "outputs": [],
   "source": [
    "# Exercise 6 - refactor the following to use numpy to find the list of squares \n",
    "squares_of_b2 = []\n",
    "for row in b2:\n",
    "    for number in row:\n",
    "        squares_of_b2.append(number**2)\n",
    "\n",
    "\n",
    "squares_of_b2"
   ]
  },
  {
   "cell_type": "code",
   "execution_count": null,
   "id": "b3e9759b",
   "metadata": {},
   "outputs": [],
   "source": [
    "np.square(b2)"
   ]
  },
  {
   "cell_type": "code",
   "execution_count": null,
   "id": "6137da99",
   "metadata": {},
   "outputs": [],
   "source": [
    "b2**2"
   ]
  },
  {
   "cell_type": "code",
   "execution_count": null,
   "id": "53456358",
   "metadata": {},
   "outputs": [],
   "source": [
    "# Exercise 7 - refactor using numpy to determine the odds_in_b\n",
    "odds_in_b2 = []\n",
    "for row in b2:\n",
    "    for number in row:\n",
    "        if(number % 2 != 0):\n",
    "            odds_in_b2.append(number)\n",
    "\n",
    "\n",
    "odds_in_b2\n"
   ]
  },
  {
   "cell_type": "code",
   "execution_count": null,
   "id": "d8696e23",
   "metadata": {},
   "outputs": [],
   "source": [
    "b2[b2% 2 != 0]"
   ]
  },
  {
   "cell_type": "code",
   "execution_count": null,
   "id": "b405ebc6",
   "metadata": {},
   "outputs": [],
   "source": [
    "# Exercise 8 - refactor the following to use numpy to filter only the even numbers\n",
    "evens_in_b = []\n",
    "for row in b:\n",
    "    for number in row:\n",
    "        if(number % 2 == 0):\n",
    "            evens_in_b.append(number)\n",
    "\n"
   ]
  },
  {
   "cell_type": "code",
   "execution_count": null,
   "id": "f7c04a9b",
   "metadata": {},
   "outputs": [],
   "source": []
  },
  {
   "cell_type": "code",
   "execution_count": null,
   "id": "8143ebf0",
   "metadata": {},
   "outputs": [],
   "source": [
    "# Exercise 9 - print out the shape of the array b.\n",
    "\n",
    "b2.shape"
   ]
  },
  {
   "cell_type": "code",
   "execution_count": null,
   "id": "ea758a1a",
   "metadata": {},
   "outputs": [],
   "source": [
    "# Exercise 10 - transpose the array b.\n",
    "\n",
    "b2"
   ]
  },
  {
   "cell_type": "code",
   "execution_count": null,
   "id": "7348dd98",
   "metadata": {},
   "outputs": [],
   "source": [
    "b2.transpose()"
   ]
  },
  {
   "cell_type": "code",
   "execution_count": null,
   "id": "ffea3357",
   "metadata": {},
   "outputs": [],
   "source": [
    "# Exercise 11 - reshape the array b to be a single list of 6 numbers. (1 x 6)\n",
    "\n",
    "b2.reshape(1,6)"
   ]
  },
  {
   "cell_type": "code",
   "execution_count": null,
   "id": "3f946a71",
   "metadata": {},
   "outputs": [],
   "source": []
  },
  {
   "cell_type": "code",
   "execution_count": null,
   "id": "01fb4f0b",
   "metadata": {},
   "outputs": [],
   "source": [
    "# Exercise 12 - reshape the array b to be a list of 6 lists, each containing only 1 number (6 x 1)\n",
    "\n",
    "b2.reshape(6,1)"
   ]
  },
  {
   "cell_type": "code",
   "execution_count": null,
   "id": "f999fd3b",
   "metadata": {},
   "outputs": [],
   "source": [
    "## Setup 3\n",
    "c = [\n",
    "    [1, 2, 3],\n",
    "    [4, 5, 6],\n",
    "    [7, 8, 9]\n",
    "]\n",
    "\n",
    "# HINT, you'll first need to make sure that the \"c\" variable is a numpy array prior to using numpy array methods.\n",
    "# Exercise 1 - Find the min, max, sum, and product of c.\n",
    "\n",
    "c= np.array(c)\n",
    "c.min(), c"
   ]
  },
  {
   "cell_type": "code",
   "execution_count": null,
   "id": "e2b881e2",
   "metadata": {},
   "outputs": [],
   "source": [
    "# Exercise 2 - Determine the standard deviation of c.\n",
    "\n",
    "c.std()"
   ]
  },
  {
   "cell_type": "code",
   "execution_count": null,
   "id": "1eccc857",
   "metadata": {},
   "outputs": [],
   "source": [
    "# Exercise 3 - Determine the variance of c.\n",
    "\n",
    "c.var()"
   ]
  },
  {
   "cell_type": "code",
   "execution_count": null,
   "id": "0cc24a83",
   "metadata": {},
   "outputs": [],
   "source": [
    "# Exercise 4 - Print out the shape of the array c\n",
    "c.shape\n"
   ]
  },
  {
   "cell_type": "code",
   "execution_count": null,
   "id": "6960e729",
   "metadata": {},
   "outputs": [],
   "source": [
    "# Exercise 5 - Transpose c and print out transposed result.\n",
    "c1 = c.transpose()\n",
    "c.transpose()\n",
    "c1"
   ]
  },
  {
   "cell_type": "code",
   "execution_count": null,
   "id": "48e75ee9",
   "metadata": {},
   "outputs": [],
   "source": [
    "# Exercise 6 - Get the dot product of the array c with c. \n",
    "np.dot(c,c)"
   ]
  },
  {
   "cell_type": "code",
   "execution_count": null,
   "id": "937fb6aa",
   "metadata": {},
   "outputs": [],
   "source": [
    "# Exercise 7 - Write the code necessary to sum up the result of c times c transposed. Answer should be 261\n",
    "sum(c*c1)\n",
    "np.sum(c * c.transpose())"
   ]
  },
  {
   "cell_type": "code",
   "execution_count": null,
   "id": "749c8468",
   "metadata": {},
   "outputs": [],
   "source": [
    "# Exercise 8 - Write the code necessary to determine the product of c times c transposed. Answer should be 131681894400.\n",
    "\n",
    "\n"
   ]
  },
  {
   "cell_type": "code",
   "execution_count": null,
   "id": "7d74c8a0",
   "metadata": {},
   "outputs": [],
   "source": [
    "## Setup 4\n",
    "d = [\n",
    "    [90, 30, 45, 0, 120, 180],\n",
    "    [45, -90, -30, 270, 90, 0],\n",
    "    [60, 45, -45, 90, -45, 180]\n",
    "]\n",
    "\n",
    "\n",
    "d = np.array(d)"
   ]
  },
  {
   "cell_type": "code",
   "execution_count": null,
   "id": "6d3383de",
   "metadata": {},
   "outputs": [],
   "source": [
    "# Exercise 1 - Find the sine of all the numbers in d\n",
    "np.sin(d)"
   ]
  },
  {
   "cell_type": "code",
   "execution_count": null,
   "id": "6ce8da8e",
   "metadata": {},
   "outputs": [],
   "source": [
    "# Exercise 2 - Find the cosine of all the numbers in d\n",
    "\n",
    "np.cos(d)"
   ]
  },
  {
   "cell_type": "code",
   "execution_count": null,
   "id": "5ded5477",
   "metadata": {},
   "outputs": [],
   "source": [
    "# Exercise 3 - Find the tangent of all the numbers in d\n",
    "\n",
    "np.tan(d)"
   ]
  },
  {
   "cell_type": "code",
   "execution_count": null,
   "id": "b1350b48",
   "metadata": {},
   "outputs": [],
   "source": [
    "# Exercise 4 - Find all the negative numbers in d\n",
    "\n",
    "d[d <0]"
   ]
  },
  {
   "cell_type": "code",
   "execution_count": null,
   "id": "c398634f",
   "metadata": {},
   "outputs": [],
   "source": [
    "# Exercise 5 - Find all the positive numbers in d\n",
    "\n",
    "d[d >0]"
   ]
  },
  {
   "cell_type": "code",
   "execution_count": null,
   "id": "bcf66ee3",
   "metadata": {},
   "outputs": [],
   "source": [
    "# Exercise 6 - Return an array of only the unique numbers in d.\n",
    "\n",
    "np.uniques(d)"
   ]
  },
  {
   "cell_type": "code",
   "execution_count": null,
   "id": "612dce0c",
   "metadata": {},
   "outputs": [],
   "source": [
    "# Exercise 7 - Determine how many unique numbers there are in d.\n",
    "\n",
    "len(np.uniques(d))"
   ]
  },
  {
   "cell_type": "code",
   "execution_count": null,
   "id": "f0eca369",
   "metadata": {},
   "outputs": [],
   "source": [
    "# Exercise 8 - Print out the shape of d.\n",
    "\n",
    "d.shape"
   ]
  },
  {
   "cell_type": "code",
   "execution_count": null,
   "id": "2783445b",
   "metadata": {},
   "outputs": [],
   "source": [
    "# Exercise 9 - Transpose and then print out the shape of d.\n",
    "\n",
    "d.transpose().shape"
   ]
  },
  {
   "cell_type": "code",
   "execution_count": null,
   "id": "d422dd06",
   "metadata": {},
   "outputs": [],
   "source": [
    "# Exercise 10 - Reshape d into an array of 9 x 2\n",
    "d.reshape(d (9,2))"
   ]
  },
  {
   "cell_type": "code",
   "execution_count": null,
   "id": "c12fe4ab",
   "metadata": {},
   "outputs": [],
   "source": []
  },
  {
   "cell_type": "code",
   "execution_count": null,
   "id": "f893aa6e",
   "metadata": {},
   "outputs": [],
   "source": []
  },
  {
   "cell_type": "code",
   "execution_count": null,
   "id": "7a2aa435",
   "metadata": {},
   "outputs": [],
   "source": []
  }
 ],
 "metadata": {
  "kernelspec": {
   "display_name": "Python 3 (ipykernel)",
   "language": "python",
   "name": "python3"
  },
  "language_info": {
   "codemirror_mode": {
    "name": "ipython",
    "version": 3
   },
   "file_extension": ".py",
   "mimetype": "text/x-python",
   "name": "python",
   "nbconvert_exporter": "python",
   "pygments_lexer": "ipython3",
   "version": "3.9.12"
  }
 },
 "nbformat": 4,
 "nbformat_minor": 5
}
