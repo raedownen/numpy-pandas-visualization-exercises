{
 "cells": [
  {
   "cell_type": "code",
   "execution_count": null,
   "id": "964a40d6",
   "metadata": {},
   "outputs": [],
   "source": [
    "#Exercises\n",
    "#For several of the following exercises, you'll need to load several datasets using the pydataset library. \n",
    "#(If you get an error when trying to run the import below, use pip to install the pydataset package.)\n",
    "\n",
    "\n"
   ]
  },
  {
   "cell_type": "code",
   "execution_count": null,
   "id": "d9f30189",
   "metadata": {},
   "outputs": [],
   "source": [
    "from pydataset import data\n",
    "#When the instructions say to load a dataset, you can pass the name of the dataset as a string to the data \n",
    "#function to load the dataset. You can also view the documentation for the data set by passing the show_doc \n",
    "#keyword argument.\n",
    "\n",
    "\n",
    "# data('mpg', show_doc=True) # view the documentation for the dataset\n",
    "mpg = data('mpg') # load the dataset and store it in a variable\n",
    "#All the datasets loaded from the pydataset library will be pandas dataframes.\n",
    "\n",
    "Copy the code from the lesson to create a dataframe full of student grades.\n",
    "\n"
   ]
  },
  {
   "cell_type": "code",
   "execution_count": null,
   "id": "9d9c33e5",
   "metadata": {},
   "outputs": [],
   "source": [
    "#Create a column named passing_english that indicates whether each student has a passing grade in english.\n"
   ]
  },
  {
   "cell_type": "code",
   "execution_count": null,
   "id": "95d569a8",
   "metadata": {},
   "outputs": [],
   "source": [
    "#Sort the english grades by the passing_english column. How are duplicates handled?\n"
   ]
  },
  {
   "cell_type": "code",
   "execution_count": null,
   "id": "ec27e5dc",
   "metadata": {},
   "outputs": [],
   "source": [
    "#Sort the english grades first by passing_english and then by student name. All the students that are failing \n",
    "#english should be first, and within the students that are failing english they should be ordered alphabetically. \n",
    "#The same should be true for the students passing english. (Hint: you can pass a list to the .sort_values method)\n"
   ]
  },
  {
   "cell_type": "code",
   "execution_count": null,
   "id": "e3a7b093",
   "metadata": {},
   "outputs": [],
   "source": [
    "#Sort the english grades first by passing_english, and then by the actual english grade, similar to how we did in\n",
    "#the last step.\n"
   ]
  },
  {
   "cell_type": "code",
   "execution_count": null,
   "id": "3ecfa98e",
   "metadata": {},
   "outputs": [],
   "source": [
    "#Calculate each students overall grade and add it as a column on the dataframe. The overall grade is the average \n",
    "#of the math, english, and reading grades.\n"
   ]
  },
  {
   "cell_type": "code",
   "execution_count": null,
   "id": "f7936641",
   "metadata": {},
   "outputs": [],
   "source": [
    "#Load the mpg dataset. Read the documentation for the dataset and use it for the following questions:\n",
    "\n"
   ]
  },
  {
   "cell_type": "code",
   "execution_count": null,
   "id": "544cbae6",
   "metadata": {},
   "outputs": [],
   "source": [
    "#How many rows and columns are there?\n"
   ]
  },
  {
   "cell_type": "code",
   "execution_count": null,
   "id": "c8082d93",
   "metadata": {},
   "outputs": [],
   "source": [
    "#What are the data types of each column?\n"
   ]
  },
  {
   "cell_type": "code",
   "execution_count": null,
   "id": "5eee7183",
   "metadata": {},
   "outputs": [],
   "source": [
    "#Summarize the dataframe with .info and .describe\n"
   ]
  },
  {
   "cell_type": "code",
   "execution_count": null,
   "id": "b53a7d32",
   "metadata": {},
   "outputs": [],
   "source": [
    "#Rename the cty column to city.\n"
   ]
  },
  {
   "cell_type": "code",
   "execution_count": null,
   "id": "d06d1bcd",
   "metadata": {},
   "outputs": [],
   "source": [
    "#Rename the hwy column to highway.\n"
   ]
  },
  {
   "cell_type": "code",
   "execution_count": null,
   "id": "e2b3bd85",
   "metadata": {},
   "outputs": [],
   "source": [
    "#Do any cars have better city mileage than highway mileage?\n"
   ]
  },
  {
   "cell_type": "code",
   "execution_count": null,
   "id": "5f5c12fd",
   "metadata": {},
   "outputs": [],
   "source": [
    "#Create a column named mileage_difference this column should contain the difference between highway and \n",
    "#city mileage for each car.\n"
   ]
  },
  {
   "cell_type": "code",
   "execution_count": null,
   "id": "6fa1c279",
   "metadata": {},
   "outputs": [],
   "source": [
    "#Which car (or cars) has the highest mileage difference?\n"
   ]
  },
  {
   "cell_type": "code",
   "execution_count": null,
   "id": "4f8f3c75",
   "metadata": {},
   "outputs": [],
   "source": [
    "#Which compact class car has the lowest highway mileage? The best?\n"
   ]
  },
  {
   "cell_type": "code",
   "execution_count": null,
   "id": "7d395521",
   "metadata": {},
   "outputs": [],
   "source": [
    "#Create a column named average_mileage that is the mean of the city and highway mileage.\n"
   ]
  },
  {
   "cell_type": "code",
   "execution_count": null,
   "id": "290fc0a8",
   "metadata": {},
   "outputs": [],
   "source": [
    "#Which dodge car has the best average mileage? The worst?\n"
   ]
  },
  {
   "cell_type": "code",
   "execution_count": null,
   "id": "4cb27f8f",
   "metadata": {},
   "outputs": [],
   "source": [
    "#Load the Mammals dataset. Read the documentation for it, and use the data to answer these questions:\n",
    "\n"
   ]
  },
  {
   "cell_type": "code",
   "execution_count": null,
   "id": "2a5f91e8",
   "metadata": {},
   "outputs": [],
   "source": [
    "#How many rows and columns are there?\n"
   ]
  },
  {
   "cell_type": "code",
   "execution_count": null,
   "id": "fa01e80f",
   "metadata": {},
   "outputs": [],
   "source": [
    "#What are the data types?\n"
   ]
  },
  {
   "cell_type": "code",
   "execution_count": null,
   "id": "d073265c",
   "metadata": {},
   "outputs": [],
   "source": [
    "#Summarize the dataframe with .info and .describe\n"
   ]
  },
  {
   "cell_type": "code",
   "execution_count": null,
   "id": "7c3c2af2",
   "metadata": {},
   "outputs": [],
   "source": [
    "#What is the the weight of the fastest animal?\n"
   ]
  },
  {
   "cell_type": "code",
   "execution_count": null,
   "id": "3ab4f7af",
   "metadata": {},
   "outputs": [],
   "source": [
    "#What is the overal percentage of specials?\n"
   ]
  },
  {
   "cell_type": "code",
   "execution_count": null,
   "id": "8841243c",
   "metadata": {},
   "outputs": [],
   "source": [
    "#How many animals are hoppers that are above the median speed? What percentage is this?\n"
   ]
  },
  {
   "cell_type": "code",
   "execution_count": null,
   "id": "c37ba9e0",
   "metadata": {},
   "outputs": [],
   "source": [
    "#Awesome Bonus\n",
    "#For much more practice with pandas, Go to https://github.com/guipsamora/pandas_exercises and clone the repo down \n",
    "#to your laptop. To clone a repository: - Copy the SSH address of the repository - cd ~/codeup-data-science - \n",
    "#Then type git clone git@github.com:guipsamora/pandas_exercises.git - Now do cd pandas_exercises on your terminal. - \n",
    "#Type git remote remove origin, so you won't accidentally try to push your work to guipsamora's repo.\n",
    "\n",
    "#Congratulations! You have cloned guipsamora's pandas exercises to your computer. Now you need to make a new, \n",
    "#blank, repository on GitHub.\n",
    "\n",
    "#Go to https://github.com/new to make a new repo. Name it pandas_exercises.\n",
    "#DO NOT check any check boxes. We need a blank, empty repo.\n",
    "#Finally, follow the directions to \"push an existing repository from the command line\" so that you can push up \n",
    "#your changes to your own account.\n",
    "#Now do your own work, add it, commit it, and push it!\n",
    "\n"
   ]
  },
  {
   "cell_type": "code",
   "execution_count": null,
   "id": "341d84a0",
   "metadata": {},
   "outputs": [],
   "source": []
  },
  {
   "cell_type": "code",
   "execution_count": null,
   "id": "a24561df",
   "metadata": {},
   "outputs": [],
   "source": []
  },
  {
   "cell_type": "code",
   "execution_count": null,
   "id": "ea5a0828",
   "metadata": {},
   "outputs": [],
   "source": []
  },
  {
   "cell_type": "code",
   "execution_count": null,
   "id": "42492e98",
   "metadata": {},
   "outputs": [],
   "source": []
  },
  {
   "cell_type": "code",
   "execution_count": null,
   "id": "4327572e",
   "metadata": {},
   "outputs": [],
   "source": []
  },
  {
   "cell_type": "code",
   "execution_count": null,
   "id": "f55f1cd6",
   "metadata": {},
   "outputs": [],
   "source": []
  }
 ],
 "metadata": {
  "kernelspec": {
   "display_name": "Python 3 (ipykernel)",
   "language": "python",
   "name": "python3"
  },
  "language_info": {
   "codemirror_mode": {
    "name": "ipython",
    "version": 3
   },
   "file_extension": ".py",
   "mimetype": "text/x-python",
   "name": "python",
   "nbconvert_exporter": "python",
   "pygments_lexer": "ipython3",
   "version": "3.9.12"
  }
 },
 "nbformat": 4,
 "nbformat_minor": 5
}
