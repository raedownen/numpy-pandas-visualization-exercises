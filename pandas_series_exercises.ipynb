{
 "cells": [
  {
   "cell_type": "code",
   "execution_count": null,
   "id": "3e884115",
   "metadata": {},
   "outputs": [],
   "source": [
    "import numpy as np\n",
    "import pandas as pd\n",
    "import matplotlib.pyplot as plt"
   ]
  },
  {
   "cell_type": "code",
   "execution_count": null,
   "id": "97ad8984",
   "metadata": {},
   "outputs": [],
   "source": [
    "#fruits from the following list:\n",
    "# [\"kiwi\", \"mango\", \"strawberry\", \"pineapple\", \"gala apple\", \"honeycrisp apple\", \"tomato\", \"watermelon\", \"honeydew\", \"kiwi\", \"kiwi\", \"kiwi\", \"mango\", \"blueberry\", \"blackberry\", \"gooseberry\", \"papaya\"]\n",
    "#Use Series attributes and methods to explore your fruits Series."
   ]
  },
  {
   "cell_type": "code",
   "execution_count": null,
   "id": "a17210cf",
   "metadata": {},
   "outputs": [],
   "source": [
    "fruits = pd.Series([\"kiwi\", \"mango\", \"strawberry\", \"pineapple\", \"gala apple\", \"honeycrisp apple\", \"tomato\", \"watermelon\", \"honeydew\", \"kiwi\", \"kiwi\", \"kiwi\", \"mango\", \"blueberry\", \"blackberry\", \"gooseberry\", \"papaya\"])\n",
    "type(fruits)"
   ]
  },
  {
   "cell_type": "code",
   "execution_count": null,
   "id": "adee5da7",
   "metadata": {
    "scrolled": true
   },
   "outputs": [],
   "source": [
    "pd.Series.head?"
   ]
  },
  {
   "cell_type": "code",
   "execution_count": null,
   "id": "cccc2405",
   "metadata": {},
   "outputs": [],
   "source": [
    "len?"
   ]
  },
  {
   "cell_type": "code",
   "execution_count": null,
   "id": "efca2f01",
   "metadata": {},
   "outputs": [],
   "source": [
    "str.capitilize?\n"
   ]
  },
  {
   "cell_type": "code",
   "execution_count": null,
   "id": "34edf5b0",
   "metadata": {},
   "outputs": [],
   "source": [
    "fruits"
   ]
  },
  {
   "cell_type": "code",
   "execution_count": null,
   "id": "fd0e636e",
   "metadata": {},
   "outputs": [],
   "source": [
    "# 1Determine the number of elements in fruits.\n",
    "fruits.size"
   ]
  },
  {
   "cell_type": "code",
   "execution_count": null,
   "id": "93b4d608",
   "metadata": {},
   "outputs": [],
   "source": [
    "#2 Output only the index from fruits.\n",
    "fruits.index.tolist()\n"
   ]
  },
  {
   "cell_type": "code",
   "execution_count": null,
   "id": "72663f3d",
   "metadata": {},
   "outputs": [],
   "source": [
    "list(fruits.index)"
   ]
  },
  {
   "cell_type": "code",
   "execution_count": null,
   "id": "9c8b9803",
   "metadata": {},
   "outputs": [],
   "source": [
    "list(range(0,17))"
   ]
  },
  {
   "cell_type": "code",
   "execution_count": null,
   "id": "c55feda1",
   "metadata": {},
   "outputs": [],
   "source": [
    "#3Output only the values from fruits.\n",
    "fruits.values"
   ]
  },
  {
   "cell_type": "code",
   "execution_count": null,
   "id": "863bb6d4",
   "metadata": {},
   "outputs": [],
   "source": []
  },
  {
   "cell_type": "code",
   "execution_count": null,
   "id": "1ccf3bb0",
   "metadata": {},
   "outputs": [],
   "source": [
    "list(fruits.values)"
   ]
  },
  {
   "cell_type": "code",
   "execution_count": null,
   "id": "1cd11288",
   "metadata": {},
   "outputs": [],
   "source": [
    "len(fruits.values)"
   ]
  },
  {
   "cell_type": "code",
   "execution_count": null,
   "id": "ec293388",
   "metadata": {},
   "outputs": [],
   "source": [
    "#4Confirm the data type of the values in fruits.\n",
    "#fruits.describe()\n",
    "fruits.dtype"
   ]
  },
  {
   "cell_type": "code",
   "execution_count": null,
   "id": "5ae78b10",
   "metadata": {},
   "outputs": [],
   "source": [
    "#5Output only the first five values from fruits.  \n",
    "fruits.head()"
   ]
  },
  {
   "cell_type": "code",
   "execution_count": null,
   "id": "21ae9c5b",
   "metadata": {},
   "outputs": [],
   "source": [
    "#Output the last three values.\n",
    "fruits.tail(3)"
   ]
  },
  {
   "cell_type": "code",
   "execution_count": null,
   "id": "19093ecc",
   "metadata": {},
   "outputs": [],
   "source": [
    "#Output two random values from fruits.\n",
    "fruits.sample(2)"
   ]
  },
  {
   "cell_type": "code",
   "execution_count": null,
   "id": "a5f2e9ff",
   "metadata": {},
   "outputs": [],
   "source": [
    "#6Run the .describe() on fruits to see what information it returns when called on a Series with string values.\n",
    "fruits.describe()"
   ]
  },
  {
   "cell_type": "code",
   "execution_count": null,
   "id": "e7920a29",
   "metadata": {},
   "outputs": [],
   "source": [
    "#7Run the code necessary to produce only the unique string values from fruits.\n",
    "fruits.unique()"
   ]
  },
  {
   "cell_type": "code",
   "execution_count": null,
   "id": "1a2d06e8",
   "metadata": {},
   "outputs": [],
   "source": [
    "fruits.nunique()"
   ]
  },
  {
   "cell_type": "code",
   "execution_count": null,
   "id": "9075b684",
   "metadata": {},
   "outputs": [],
   "source": [
    "set(fruits.values)"
   ]
  },
  {
   "cell_type": "code",
   "execution_count": null,
   "id": "8b6425fe",
   "metadata": {},
   "outputs": [],
   "source": [
    "#8Determine how many times each unique string value occurs in fruits.\n",
    "# value_counts() will output a new pandas aSeries the content (values) of this value counts series is \n",
    "#now the number of the times an element pops up, and the index is the original thing that it was counting from our origin series\n",
    "#In cthis case , value_counts gives us a series of string literla indexes nassociated with thw integer.\n",
    "fruits.value_counts()"
   ]
  },
  {
   "cell_type": "code",
   "execution_count": null,
   "id": "1e8c1673",
   "metadata": {},
   "outputs": [],
   "source": [
    "fruits.value_counts().head(1)"
   ]
  },
  {
   "cell_type": "code",
   "execution_count": null,
   "id": "8c0f5bdd",
   "metadata": {},
   "outputs": [],
   "source": [
    "#9Determine the string value that occurs most frequently in fruits.\n",
    "fruits.value_counts().idxmax()"
   ]
  },
  {
   "cell_type": "code",
   "execution_count": null,
   "id": "3cb08d38",
   "metadata": {},
   "outputs": [],
   "source": [
    "#10Determine the string value that occurs least frequently in fruits.\n",
    "#, keep='all')\n",
    "fruits.value_counts().idxmin()"
   ]
  },
  {
   "cell_type": "code",
   "execution_count": null,
   "id": "b11f99a3",
   "metadata": {},
   "outputs": [],
   "source": [
    "fruits.value_counts().nsmallest(keep='all')"
   ]
  },
  {
   "cell_type": "code",
   "execution_count": null,
   "id": "35656ce2",
   "metadata": {},
   "outputs": [],
   "source": [
    "#Exercises Part II\n",
    "#Explore more attributes and methods while you continue to work with the fruits Series."
   ]
  },
  {
   "cell_type": "code",
   "execution_count": null,
   "id": "aa3c94ea",
   "metadata": {},
   "outputs": [],
   "source": [
    "#1Capitalize all the string values in fruits.\n",
    "fruits.str.capitalize()"
   ]
  },
  {
   "cell_type": "code",
   "execution_count": null,
   "id": "9bd2a946",
   "metadata": {},
   "outputs": [],
   "source": [
    "#2Count the letter \"a\" in all the string values (use string vectorization)\n",
    "fruits.str.count('a')"
   ]
  },
  {
   "cell_type": "code",
   "execution_count": null,
   "id": "885f82f5",
   "metadata": {},
   "outputs": [],
   "source": [
    "fruits.apply(lambda x : x + ' count of a: ' + str(x.count('a')))"
   ]
  },
  {
   "cell_type": "code",
   "execution_count": null,
   "id": "8490343c",
   "metadata": {},
   "outputs": [],
   "source": [
    "#3Output the number of vowels in each and every string value.\n",
    "fruits.str.count('a|e|i|o|u')"
   ]
  },
  {
   "cell_type": "code",
   "execution_count": null,
   "id": "87285f70",
   "metadata": {},
   "outputs": [],
   "source": [
    "#define vowels\n",
    "vowels = ['a','e','i','o','u']"
   ]
  },
  {
   "cell_type": "code",
   "execution_count": null,
   "id": "10772fef",
   "metadata": {},
   "outputs": [],
   "source": [
    "fruit = 'persimmon'"
   ]
  },
  {
   "cell_type": "code",
   "execution_count": null,
   "id": "d60f75d1",
   "metadata": {},
   "outputs": [],
   "source": [
    "vowel_count = 0\n",
    "for let in fruit:\n",
    "    if let in vowels:\n",
    "        vowel_count += 1"
   ]
  },
  {
   "cell_type": "code",
   "execution_count": null,
   "id": "2c6c0f3d",
   "metadata": {},
   "outputs": [],
   "source": [
    "vowel_count"
   ]
  },
  {
   "cell_type": "code",
   "execution_count": null,
   "id": "3efd2f02",
   "metadata": {},
   "outputs": [],
   "source": [
    "len([let for let in fruit if let in ['a','e','i','o','u']])"
   ]
  },
  {
   "cell_type": "code",
   "execution_count": null,
   "id": "0952e59b",
   "metadata": {},
   "outputs": [],
   "source": [
    "def count_vowels(some_word):\n",
    "    return len([let for let in fruit if let in ['a','e','i','o','u']])"
   ]
  },
  {
   "cell_type": "code",
   "execution_count": null,
   "id": "682a5d61",
   "metadata": {},
   "outputs": [],
   "source": [
    "fruits.apply(count_vowels)"
   ]
  },
  {
   "cell_type": "code",
   "execution_count": null,
   "id": "f7e17017",
   "metadata": {},
   "outputs": [],
   "source": [
    "#fancy\n",
    "vowel_counts = fruits.str.lower().count(r'[aeiou])"
   ]
  },
  {
   "cell_type": "code",
   "execution_count": null,
   "id": "7579e8f8",
   "metadata": {},
   "outputs": [],
   "source": [
    "#4Write the code to get the longest string value from fruits.\n",
    "fruits[fruits.str.len().idxmax()]\n"
   ]
  },
  {
   "cell_type": "code",
   "execution_count": null,
   "id": "d9d1480b",
   "metadata": {},
   "outputs": [],
   "source": [
    "fruits.str.len()"
   ]
  },
  {
   "cell_type": "code",
   "execution_count": null,
   "id": "c526f968",
   "metadata": {},
   "outputs": [],
   "source": [
    "fruits.str.len().max()"
   ]
  },
  {
   "cell_type": "code",
   "execution_count": null,
   "id": "f8c9b1fd",
   "metadata": {},
   "outputs": [],
   "source": [
    "#mask\n",
    "bool_mask = fruits.str.len() == fruits.str.len().max()\n",
    "fruits[bool_mask]"
   ]
  },
  {
   "cell_type": "code",
   "execution_count": null,
   "id": "b45dff10",
   "metadata": {},
   "outputs": [],
   "source": [
    "bool_mask1= fruits.str.len() == fruits"
   ]
  },
  {
   "cell_type": "code",
   "execution_count": null,
   "id": "8c5d0ed7",
   "metadata": {},
   "outputs": [],
   "source": [
    "#5Write the code to get the string values with 5 or more letters in the name.\n",
    "\n",
    "fruits[fruits.str.len()>=5]"
   ]
  },
  {
   "cell_type": "code",
   "execution_count": null,
   "id": "e29f9071",
   "metadata": {},
   "outputs": [],
   "source": [
    "#6Find the fruit(s) containing the letter \"o\" two or more times\n",
    "# mapping through the series and checking\n",
    "# if count of vowels is >=2\n",
    "fruits[fruits.str.count('o')>=2]"
   ]
  },
  {
   "cell_type": "code",
   "execution_count": null,
   "id": "1b3d3d8c",
   "metadata": {},
   "outputs": [],
   "source": [
    "#7Write the code to get only the string values containing the substring \"berry\".\n",
    "fruits[fruits.str.'%berry']"
   ]
  },
  {
   "cell_type": "code",
   "execution_count": null,
   "id": "755709d9",
   "metadata": {},
   "outputs": [],
   "source": [
    "#8Write the code to get only the string values containing the substring \"apple\".\n",
    "\n",
    "fruits[fruits.apply(lambda x: 'berry' in x)]"
   ]
  },
  {
   "cell_type": "code",
   "execution_count": null,
   "id": "413221b3",
   "metadata": {},
   "outputs": [],
   "source": [
    "fruits[fruits.apply(lambda x: 'apple' in x)]"
   ]
  },
  {
   "cell_type": "code",
   "execution_count": null,
   "id": "691c0739",
   "metadata": {},
   "outputs": [],
   "source": [
    "bool_mask = fruits.str.contains('apple')\n",
    "fruits[bool_mask]"
   ]
  },
  {
   "cell_type": "code",
   "execution_count": null,
   "id": "fb60ee9c",
   "metadata": {},
   "outputs": [],
   "source": [
    "#9Which string value contains the most vowels?"
   ]
  },
  {
   "cell_type": "code",
   "execution_count": null,
   "id": "605d0cb0",
   "metadata": {},
   "outputs": [],
   "source": [
    "new_mask_who_dis = fruits.apply(count_vowels) == fruits.apply(count_vowels).max()\n",
    "fruits[new_mask_who_dis]"
   ]
  },
  {
   "cell_type": "code",
   "execution_count": null,
   "id": "09f4e855",
   "metadata": {},
   "outputs": [],
   "source": [
    "#.isin(): comparing string of each item in series to a list of strings. Is the string in your series found in the \n",
    "#list of strings? Returns a series of boolean values. In other words, use isin() to tell whether each value is in a set of known values.\n",
    "\n",
    "vowels = list('aeiouy')\n",
    "vowels\n",
    "['a', 'e', 'i', 'o', 'u', 'y']\n",
    "letters = list('abcdefghijklminow')\n",
    "letters\n",
    "['a',\n",
    " 'b',\n",
    " 'c',\n",
    " 'd',\n",
    " 'e',\n",
    " 'f',\n",
    " 'g',\n",
    " 'h',\n",
    " 'i',\n",
    " 'j',\n",
    " 'k',\n",
    " 'l',\n",
    " 'm',\n",
    " 'i',\n",
    " 'n',\n",
    " 'o',\n",
    " 'w']\n",
    "letters_series = pd.Series(letters)\n",
    "letters_series\n",
    "0     a\n",
    "1     b\n",
    "2     c\n",
    "3     d\n",
    "4     e\n",
    "5     f\n",
    "6     g\n",
    "7     h\n",
    "8     i\n",
    "9     j\n",
    "10    k\n",
    "11    l\n",
    "12    m\n",
    "13    i\n",
    "14    n\n",
    "15    o\n",
    "16    w\n",
    "dtype: object\n",
    "letters_series.isin(vowels)\n",
    "0      True\n",
    "1     False\n",
    "2     False\n",
    "3     False\n",
    "4      True\n",
    "5     False\n",
    "6     False\n",
    "7     False\n",
    "8      True\n",
    "9     False\n",
    "10    False\n",
    "11    False\n",
    "12    False\n",
    "13     True\n",
    "14    False\n",
    "15     True\n",
    "16    False\n",
    "dtype: bool\n",
    "letters_series.isin(vowels).value_counts()\n",
    "False    12\n",
    "True      5\n",
    "dtype: int64\n",
    "letters_series.isin(vowels).any()\n",
    "True"
   ]
  },
  {
   "cell_type": "code",
   "execution_count": null,
   "id": "5ba81e7e",
   "metadata": {},
   "outputs": [],
   "source": [
    "num_strings = pd.Series([3, 4, 5, 6]).astype('str')\n",
    "num_strings\n",
    "\n"
   ]
  },
  {
   "cell_type": "code",
   "execution_count": null,
   "id": "507c3359",
   "metadata": {},
   "outputs": [],
   "source": [
    "pd.Series(['a', 'b', 'a', 'c', 'b', 'a', 'd', 'a']).value_counts()\n",
    "\n"
   ]
  },
  {
   "cell_type": "code",
   "execution_count": null,
   "id": "da551f53",
   "metadata": {},
   "outputs": [],
   "source": [
    "string_series[string_series.str.lower().str.startswith('h')]"
   ]
  },
  {
   "cell_type": "code",
   "execution_count": null,
   "id": "5aa44ef1",
   "metadata": {},
   "outputs": [],
   "source": [
    "#Exercises Part III\n",
    "#Use pandas to create a Series named letters from the following string. The easiest way to make this string into a \n",
    "#Pandas series is to use list to convert each individual letter into a single string on a basic Python list."
   ]
  },
  {
   "cell_type": "code",
   "execution_count": 3,
   "id": "765422b9",
   "metadata": {},
   "outputs": [
    {
     "data": {
      "text/plain": [
       "pandas.core.series.Series"
      ]
     },
     "execution_count": 3,
     "metadata": {},
     "output_type": "execute_result"
    }
   ],
   "source": [
    "pd.Series"
   ]
  },
  {
   "cell_type": "code",
   "execution_count": 27,
   "id": "da50a50e",
   "metadata": {},
   "outputs": [],
   "source": [
    "import matplotlib.pyplot as plt\n",
    "import pandas as pd\n",
    "import numpy as np\n",
    "letters = 'hnvidduckkqxwymbimkccexbkmqygkxoyndmcxnwqarhyffsjpsrabtjzsypmzadfavyrnndndvswreauxovncxtwzpwejilzjrmmbbgbyxvjtewqthafnbkqplarokkyydtubbmnexoypulzwfhqvckdpqtpoppzqrmcvhhpwgjwupgzhiofohawytlsiyecuproguy'\n",
    "letters = list(letters)\n",
    "letters = pd.Series"
   ]
  },
  {
   "cell_type": "code",
   "execution_count": 28,
   "id": "e5a19dc9",
   "metadata": {},
   "outputs": [
    {
     "data": {
      "text/plain": [
       "pandas.core.series.Series"
      ]
     },
     "execution_count": 28,
     "metadata": {},
     "output_type": "execute_result"
    }
   ],
   "source": [
    "letters"
   ]
  },
  {
   "cell_type": "code",
   "execution_count": 29,
   "id": "2b1781b8",
   "metadata": {},
   "outputs": [
    {
     "ename": "TypeError",
     "evalue": "value_counts() missing 1 required positional argument: 'self'",
     "output_type": "error",
     "traceback": [
      "\u001b[0;31m---------------------------------------------------------------------------\u001b[0m",
      "\u001b[0;31mTypeError\u001b[0m                                 Traceback (most recent call last)",
      "Input \u001b[0;32mIn [29]\u001b[0m, in \u001b[0;36m<cell line: 2>\u001b[0;34m()\u001b[0m\n\u001b[1;32m      1\u001b[0m \u001b[38;5;66;03m#Which letter occurs the Least frequently?\u001b[39;00m\n\u001b[0;32m----> 2\u001b[0m \u001b[43mletters\u001b[49m\u001b[38;5;241;43m.\u001b[39;49m\u001b[43mvalue_counts\u001b[49m\u001b[43m(\u001b[49m\u001b[43m)\u001b[49m\n",
      "\u001b[0;31mTypeError\u001b[0m: value_counts() missing 1 required positional argument: 'self'"
     ]
    }
   ],
   "source": [
    "#Which letter occurs the Least frequently?\n",
    "letters.value_counts()"
   ]
  },
  {
   "cell_type": "code",
   "execution_count": 15,
   "id": "46551cd1",
   "metadata": {},
   "outputs": [
    {
     "ename": "NameError",
     "evalue": "name 'is_vowel' is not defined",
     "output_type": "error",
     "traceback": [
      "\u001b[0;31m---------------------------------------------------------------------------\u001b[0m",
      "\u001b[0;31mNameError\u001b[0m                                 Traceback (most recent call last)",
      "Input \u001b[0;32mIn [15]\u001b[0m, in \u001b[0;36m<cell line: 1>\u001b[0;34m()\u001b[0m\n\u001b[0;32m----> 1\u001b[0m letters\u001b[38;5;241m.\u001b[39mstr\u001b[38;5;241m.\u001b[39mlower()\u001b[38;5;241m.\u001b[39mapply(\u001b[43mis_vowel\u001b[49m)\u001b[38;5;241m.\u001b[39msum()\n",
      "\u001b[0;31mNameError\u001b[0m: name 'is_vowel' is not defined"
     ]
    }
   ],
   "source": [
    "letters.str.lower().apply(is_vowel).sum()"
   ]
  },
  {
   "cell_type": "code",
   "execution_count": 11,
   "id": "7b099e24",
   "metadata": {},
   "outputs": [
    {
     "ename": "SyntaxError",
     "evalue": "invalid syntax (2902241814.py, line 4)",
     "output_type": "error",
     "traceback": [
      "\u001b[0;36m  Input \u001b[0;32mIn [11]\u001b[0;36m\u001b[0m\n\u001b[0;31m    return some_word on ['a','e','i','o','u']\u001b[0m\n\u001b[0m                     ^\u001b[0m\n\u001b[0;31mSyntaxError\u001b[0m\u001b[0;31m:\u001b[0m invalid syntax\n"
     ]
    }
   ],
   "source": [
    "#How many vowels are in the Series?\n",
    "\n",
    "def is_vowel(some_word):\n",
    "    return some_word on ['a','e','i','o','u']"
   ]
  },
  {
   "cell_type": "code",
   "execution_count": 10,
   "id": "6013ece9",
   "metadata": {},
   "outputs": [
    {
     "ename": "NameError",
     "evalue": "name 'is_vowel' is not defined",
     "output_type": "error",
     "traceback": [
      "\u001b[0;31m---------------------------------------------------------------------------\u001b[0m",
      "\u001b[0;31mNameError\u001b[0m                                 Traceback (most recent call last)",
      "Input \u001b[0;32mIn [10]\u001b[0m, in \u001b[0;36m<cell line: 1>\u001b[0;34m()\u001b[0m\n\u001b[0;32m----> 1\u001b[0m \u001b[43mis_vowel\u001b[49m(\u001b[38;5;124m'\u001b[39m\u001b[38;5;124mw\u001b[39m\u001b[38;5;124m'\u001b[39m)\n",
      "\u001b[0;31mNameError\u001b[0m: name 'is_vowel' is not defined"
     ]
    }
   ],
   "source": [
    "is_vowel('w')"
   ]
  },
  {
   "cell_type": "code",
   "execution_count": null,
   "id": "c7da2e73",
   "metadata": {},
   "outputs": [],
   "source": []
  },
  {
   "cell_type": "code",
   "execution_count": 19,
   "id": "756eb3a5",
   "metadata": {},
   "outputs": [
    {
     "ename": "SyntaxError",
     "evalue": "unexpected EOF while parsing (2156554140.py, line 3)",
     "output_type": "error",
     "traceback": [
      "\u001b[0;36m  Input \u001b[0;32mIn [19]\u001b[0;36m\u001b[0m\n\u001b[0;31m    (~letters.str.lower().apply(is_vowel).sum()\u001b[0m\n\u001b[0m                                               ^\u001b[0m\n\u001b[0;31mSyntaxError\u001b[0m\u001b[0;31m:\u001b[0m unexpected EOF while parsing\n"
     ]
    }
   ],
   "source": [
    "#How many consonants are in the Series?\n",
    "\n",
    "(~letters.str.lower().apply(is_vowel).sum()"
   ]
  },
  {
   "cell_type": "code",
   "execution_count": 18,
   "id": "473e075e",
   "metadata": {},
   "outputs": [
    {
     "data": {
      "text/plain": [
       "0      H\n",
       "1      N\n",
       "2      V\n",
       "3      I\n",
       "4      D\n",
       "      ..\n",
       "195    R\n",
       "196    O\n",
       "197    G\n",
       "198    U\n",
       "199    Y\n",
       "Length: 200, dtype: object"
      ]
     },
     "execution_count": 18,
     "metadata": {},
     "output_type": "execute_result"
    }
   ],
   "source": [
    "#Create a Series that has all of the same letters but uppercased.\n",
    "letters.str.upper()\n"
   ]
  },
  {
   "cell_type": "code",
   "execution_count": 24,
   "id": "4454b3b2",
   "metadata": {},
   "outputs": [
    {
     "ename": "AttributeError",
     "evalue": "module 'matplotlib' has no attribute 'title'",
     "output_type": "error",
     "traceback": [
      "\u001b[0;31m---------------------------------------------------------------------------\u001b[0m",
      "\u001b[0;31mAttributeError\u001b[0m                            Traceback (most recent call last)",
      "Input \u001b[0;32mIn [24]\u001b[0m, in \u001b[0;36m<cell line: 4>\u001b[0;34m()\u001b[0m\n\u001b[1;32m      2\u001b[0m \u001b[38;5;28;01mimport\u001b[39;00m \u001b[38;5;21;01mmatplotlib\u001b[39;00m \u001b[38;5;28;01mas\u001b[39;00m \u001b[38;5;21;01mplt\u001b[39;00m\n\u001b[1;32m      3\u001b[0m letters\u001b[38;5;241m.\u001b[39mvalue_counts(\u001b[38;5;241m6\u001b[39m)\u001b[38;5;241m.\u001b[39mhead(\u001b[38;5;241m6\u001b[39m)\u001b[38;5;241m.\u001b[39mplot(kind\u001b[38;5;241m=\u001b[39m\u001b[38;5;124m'\u001b[39m\u001b[38;5;124mbarh\u001b[39m\u001b[38;5;124m'\u001b[39m)\n\u001b[0;32m----> 4\u001b[0m \u001b[43mplt\u001b[49m\u001b[38;5;241;43m.\u001b[39;49m\u001b[43mtitle\u001b[49m(\u001b[38;5;124m'\u001b[39m\u001b[38;5;124mtop six all time letters\u001b[39m\u001b[38;5;124m'\u001b[39m)\n\u001b[1;32m      5\u001b[0m plt\u001b[38;5;241m.\u001b[39mshow()\n",
      "File \u001b[0;32m/opt/homebrew/anaconda3/lib/python3.9/site-packages/matplotlib/_api/__init__.py:222\u001b[0m, in \u001b[0;36mcaching_module_getattr.<locals>.__getattr__\u001b[0;34m(name)\u001b[0m\n\u001b[1;32m    220\u001b[0m \u001b[38;5;28;01mif\u001b[39;00m name \u001b[38;5;129;01min\u001b[39;00m props:\n\u001b[1;32m    221\u001b[0m     \u001b[38;5;28;01mreturn\u001b[39;00m props[name]\u001b[38;5;241m.\u001b[39m\u001b[38;5;21m__get__\u001b[39m(instance)\n\u001b[0;32m--> 222\u001b[0m \u001b[38;5;28;01mraise\u001b[39;00m \u001b[38;5;167;01mAttributeError\u001b[39;00m(\n\u001b[1;32m    223\u001b[0m     \u001b[38;5;124mf\u001b[39m\u001b[38;5;124m\"\u001b[39m\u001b[38;5;124mmodule \u001b[39m\u001b[38;5;132;01m{\u001b[39;00m\u001b[38;5;28mcls\u001b[39m\u001b[38;5;241m.\u001b[39m\u001b[38;5;18m__module__\u001b[39m\u001b[38;5;132;01m!r}\u001b[39;00m\u001b[38;5;124m has no attribute \u001b[39m\u001b[38;5;132;01m{\u001b[39;00mname\u001b[38;5;132;01m!r}\u001b[39;00m\u001b[38;5;124m\"\u001b[39m)\n",
      "\u001b[0;31mAttributeError\u001b[0m: module 'matplotlib' has no attribute 'title'"
     ]
    },
    {
     "data": {
      "image/png": "[encoded data removed]",
      "text/plain": [
       "<Figure size 432x288 with 1 Axes>"
      ]
     },
     "metadata": {
      "needs_background": "light"
     },
     "output_type": "display_data"
    }
   ],
   "source": [
    "#Create a bar plot of the frequencies of the 6 most commonly occuring letters.\n",
    "import matplotlib as plt\n",
    "letters.value_counts().head(6).plot(kind='barh')\n",
    "plt.title('top six all time letters')\n",
    "plt.show()"
   ]
  },
  {
   "cell_type": "code",
   "execution_count": null,
   "id": "d820da78",
   "metadata": {},
   "outputs": [],
   "source": [
    "Use pandas to create a Series named numbers from the following list:\n",
    "\n",
    "\n",
    "    ['$796,459.41', '$278.60', '$482,571.67', '$4,503,915.98', '$2,121,418.3', '$1,260,813.3', '$87,231.01', \n",
    "     '$1,509,175.45', '$4,138,548.00', '$2,848,913.80', '$594,715.39', '$4,789,988.17', '$4,513,644.5',\n",
    "     '$3,191,059.97', '$1,758,712.24', '$4,338,283.54', '$4,738,303.38', '$2,791,759.67', '$769,681.94', \n",
    "     '$452,650.23']\n"
   ]
  },
  {
   "cell_type": "code",
   "execution_count": 31,
   "id": "7685c873",
   "metadata": {},
   "outputs": [],
   "source": [
    "numbers =  ['$796,459.41', '$278.60', '$482,571.67', '$4,503,915.98', '$2,121,418.3', '$1,260,813.3', '$87,231.01', \n",
    "     '$1,509,175.45', '$4,138,548.00', '$2,848,913.80', '$594,715.39', '$4,789,988.17', '$4,513,644.5',\n",
    "     '$3,191,059.97', '$1,758,712.24', '$4,338,283.54', '$4,738,303.38', '$2,791,759.67', '$769,681.94', \n",
    "     '$452,650.23']"
   ]
  },
  {
   "cell_type": "code",
   "execution_count": 32,
   "id": "8b0c500b",
   "metadata": {},
   "outputs": [],
   "source": [
    "numbers = pd.Series(numbers)"
   ]
  },
  {
   "cell_type": "code",
   "execution_count": 33,
   "id": "65ff8310",
   "metadata": {},
   "outputs": [
    {
     "data": {
      "text/plain": [
       "20"
      ]
     },
     "execution_count": 33,
     "metadata": {},
     "output_type": "execute_result"
    }
   ],
   "source": [
    "numbers.size"
   ]
  },
  {
   "cell_type": "code",
   "execution_count": null,
   "id": "849dd160",
   "metadata": {},
   "outputs": [],
   "source": []
  },
  {
   "cell_type": "code",
   "execution_count": 34,
   "id": "55f23022",
   "metadata": {},
   "outputs": [
    {
     "name": "stdout",
     "output_type": "stream",
     "text": [
      "Object `Series` not found.\n"
     ]
    },
    {
     "data": {
      "text/plain": [
       "pandas.core.series.Series"
      ]
     },
     "execution_count": 34,
     "metadata": {},
     "output_type": "execute_result"
    }
   ],
   "source": [
    "What is the data type of the numbers Series?\n",
    "\n",
    "type(numbers)"
   ]
  },
  {
   "cell_type": "code",
   "execution_count": null,
   "id": "26b3818f",
   "metadata": {},
   "outputs": [],
   "source": [
    "How many elements are in the number Series?\n",
    "\n",
    "numbers.size"
   ]
  },
  {
   "cell_type": "code",
   "execution_count": 37,
   "id": "479d2582",
   "metadata": {},
   "outputs": [
    {
     "name": "stderr",
     "output_type": "stream",
     "text": [
      "/var/folders/bf/rpxpd6g10q335213vyfxsj340000gn/T/ipykernel_3819/2922704988.py:2: FutureWarning: The default value of regex will change from True to False in a future version. In addition, single character regular expressions will *not* be treated as literal strings when regex=True.\n",
      "  numbers.str.replace('$', '').str.replace(',','').astype(float)\n"
     ]
    },
    {
     "data": {
      "text/plain": [
       "0      796459.41\n",
       "1         278.60\n",
       "2      482571.67\n",
       "3     4503915.98\n",
       "4     2121418.30\n",
       "5     1260813.30\n",
       "6       87231.01\n",
       "7     1509175.45\n",
       "8     4138548.00\n",
       "9     2848913.80\n",
       "10     594715.39\n",
       "11    4789988.17\n",
       "12    4513644.50\n",
       "13    3191059.97\n",
       "14    1758712.24\n",
       "15    4338283.54\n",
       "16    4738303.38\n",
       "17    2791759.67\n",
       "18     769681.94\n",
       "19     452650.23\n",
       "dtype: float64"
      ]
     },
     "execution_count": 37,
     "metadata": {},
     "output_type": "execute_result"
    }
   ],
   "source": [
    "#Perform the necessary manipulations by accessing Series attributes and methods to convert the numbers Series to a numeric dat\n",
    "numbers = numbers.str.replace('$', '').str.replace(',','').astype(float)"
   ]
  },
  {
   "cell_type": "code",
   "execution_count": 49,
   "id": "ae0da29b",
   "metadata": {},
   "outputs": [
    {
     "ename": "AttributeError",
     "evalue": "'Series' object has no attribute 'type'",
     "output_type": "error",
     "traceback": [
      "\u001b[0;31m---------------------------------------------------------------------------\u001b[0m",
      "\u001b[0;31mAttributeError\u001b[0m                            Traceback (most recent call last)",
      "Input \u001b[0;32mIn [49]\u001b[0m, in \u001b[0;36m<cell line: 1>\u001b[0;34m()\u001b[0m\n\u001b[0;32m----> 1\u001b[0m \u001b[43mnumbers\u001b[49m\u001b[38;5;241;43m.\u001b[39;49m\u001b[43mtype\u001b[49m\n",
      "File \u001b[0;32m/opt/homebrew/anaconda3/lib/python3.9/site-packages/pandas/core/generic.py:5575\u001b[0m, in \u001b[0;36mNDFrame.__getattr__\u001b[0;34m(self, name)\u001b[0m\n\u001b[1;32m   5568\u001b[0m \u001b[38;5;28;01mif\u001b[39;00m (\n\u001b[1;32m   5569\u001b[0m     name \u001b[38;5;129;01mnot\u001b[39;00m \u001b[38;5;129;01min\u001b[39;00m \u001b[38;5;28mself\u001b[39m\u001b[38;5;241m.\u001b[39m_internal_names_set\n\u001b[1;32m   5570\u001b[0m     \u001b[38;5;129;01mand\u001b[39;00m name \u001b[38;5;129;01mnot\u001b[39;00m \u001b[38;5;129;01min\u001b[39;00m \u001b[38;5;28mself\u001b[39m\u001b[38;5;241m.\u001b[39m_metadata\n\u001b[1;32m   5571\u001b[0m     \u001b[38;5;129;01mand\u001b[39;00m name \u001b[38;5;129;01mnot\u001b[39;00m \u001b[38;5;129;01min\u001b[39;00m \u001b[38;5;28mself\u001b[39m\u001b[38;5;241m.\u001b[39m_accessors\n\u001b[1;32m   5572\u001b[0m     \u001b[38;5;129;01mand\u001b[39;00m \u001b[38;5;28mself\u001b[39m\u001b[38;5;241m.\u001b[39m_info_axis\u001b[38;5;241m.\u001b[39m_can_hold_identifiers_and_holds_name(name)\n\u001b[1;32m   5573\u001b[0m ):\n\u001b[1;32m   5574\u001b[0m     \u001b[38;5;28;01mreturn\u001b[39;00m \u001b[38;5;28mself\u001b[39m[name]\n\u001b[0;32m-> 5575\u001b[0m \u001b[38;5;28;01mreturn\u001b[39;00m \u001b[38;5;28;43mobject\u001b[39;49m\u001b[38;5;241;43m.\u001b[39;49m\u001b[38;5;21;43m__getattribute__\u001b[39;49m\u001b[43m(\u001b[49m\u001b[38;5;28;43mself\u001b[39;49m\u001b[43m,\u001b[49m\u001b[43m \u001b[49m\u001b[43mname\u001b[49m\u001b[43m)\u001b[49m\n",
      "\u001b[0;31mAttributeError\u001b[0m: 'Series' object has no attribute 'type'"
     ]
    }
   ],
   "source": [
    "typr\\"
   ]
  },
  {
   "cell_type": "code",
   "execution_count": 40,
   "id": "ea4c2f04",
   "metadata": {},
   "outputs": [
    {
     "data": {
      "text/plain": [
       "'$87,231.01'"
      ]
     },
     "execution_count": 40,
     "metadata": {},
     "output_type": "execute_result"
    }
   ],
   "source": [
    "#Run the code to discover the maximum value from the Series.\n",
    "\n",
    "numbers.max()"
   ]
  },
  {
   "cell_type": "code",
   "execution_count": 48,
   "id": "1cce6bc6",
   "metadata": {},
   "outputs": [
    {
     "data": {
      "text/plain": [
       "'$1,260,813.3'"
      ]
     },
     "execution_count": 48,
     "metadata": {},
     "output_type": "execute_result"
    }
   ],
   "source": [
    "#Run the code to discover the minimum value from the Series.\n",
    "\n",
    "numbers.min()"
   ]
  },
  {
   "cell_type": "code",
   "execution_count": 51,
   "id": "4fee70e5",
   "metadata": {},
   "outputs": [
    {
     "ename": "TypeError",
     "evalue": "unsupported operand type(s) for -: 'str' and 'str'",
     "output_type": "error",
     "traceback": [
      "\u001b[0;31m---------------------------------------------------------------------------\u001b[0m",
      "\u001b[0;31mTypeError\u001b[0m                                 Traceback (most recent call last)",
      "Input \u001b[0;32mIn [51]\u001b[0m, in \u001b[0;36m<cell line: 2>\u001b[0;34m()\u001b[0m\n\u001b[1;32m      1\u001b[0m \u001b[38;5;66;03m#What is the range of the values in the Series?\u001b[39;00m\n\u001b[0;32m----> 2\u001b[0m \u001b[43mnumbers\u001b[49m\u001b[38;5;241;43m.\u001b[39;49m\u001b[43mmax\u001b[49m\u001b[43m(\u001b[49m\u001b[43m)\u001b[49m\u001b[43m \u001b[49m\u001b[38;5;241;43m-\u001b[39;49m\u001b[43m \u001b[49m\u001b[43mnumbers\u001b[49m\u001b[38;5;241;43m.\u001b[39;49m\u001b[43mmin\u001b[49m\u001b[43m(\u001b[49m\u001b[43m)\u001b[49m\n",
      "\u001b[0;31mTypeError\u001b[0m: unsupported operand type(s) for -: 'str' and 'str'"
     ]
    }
   ],
   "source": [
    "#What is the range of the values in the Series?\n",
    "numbers.max() - numbers.min()\n"
   ]
  },
  {
   "cell_type": "code",
   "execution_count": 47,
   "id": "32442e0f",
   "metadata": {},
   "outputs": [
    {
     "ename": "TypeError",
     "evalue": "can only concatenate str (not \"float\") to str",
     "output_type": "error",
     "traceback": [
      "\u001b[0;31m---------------------------------------------------------------------------\u001b[0m",
      "\u001b[0;31mTypeError\u001b[0m                                 Traceback (most recent call last)",
      "Input \u001b[0;32mIn [47]\u001b[0m, in \u001b[0;36m<cell line: 3>\u001b[0;34m()\u001b[0m\n\u001b[1;32m      1\u001b[0m \u001b[38;5;66;03m#Bin the data into 4 equally sized intervals or bins and output how many values fall into each bin.\u001b[39;00m\n\u001b[0;32m----> 3\u001b[0m \u001b[43mpd\u001b[49m\u001b[38;5;241;43m.\u001b[39;49m\u001b[43mcut\u001b[49m\u001b[43m(\u001b[49m\u001b[43mnumbers\u001b[49m\u001b[43m,\u001b[49m\u001b[43m \u001b[49m\u001b[38;5;241;43m4\u001b[39;49m\u001b[43m)\u001b[49m\u001b[38;5;241m.\u001b[39mvalue_counts()\n",
      "File \u001b[0;32m/opt/homebrew/anaconda3/lib/python3.9/site-packages/pandas/core/reshape/tile.py:258\u001b[0m, in \u001b[0;36mcut\u001b[0;34m(x, bins, right, labels, retbins, precision, include_lowest, duplicates, ordered)\u001b[0m\n\u001b[1;32m    255\u001b[0m     \u001b[38;5;28;01mraise\u001b[39;00m \u001b[38;5;167;01mValueError\u001b[39;00m(\u001b[38;5;124m\"\u001b[39m\u001b[38;5;124mCannot cut empty array\u001b[39m\u001b[38;5;124m\"\u001b[39m)\n\u001b[1;32m    257\u001b[0m rng \u001b[38;5;241m=\u001b[39m (nanops\u001b[38;5;241m.\u001b[39mnanmin(x), nanops\u001b[38;5;241m.\u001b[39mnanmax(x))\n\u001b[0;32m--> 258\u001b[0m mn, mx \u001b[38;5;241m=\u001b[39m (mi \u001b[38;5;241m+\u001b[39m \u001b[38;5;241m0.0\u001b[39m \u001b[38;5;28;01mfor\u001b[39;00m mi \u001b[38;5;129;01min\u001b[39;00m rng)\n\u001b[1;32m    260\u001b[0m \u001b[38;5;28;01mif\u001b[39;00m np\u001b[38;5;241m.\u001b[39misinf(mn) \u001b[38;5;129;01mor\u001b[39;00m np\u001b[38;5;241m.\u001b[39misinf(mx):\n\u001b[1;32m    261\u001b[0m     \u001b[38;5;66;03m# GH 24314\u001b[39;00m\n\u001b[1;32m    262\u001b[0m     \u001b[38;5;28;01mraise\u001b[39;00m \u001b[38;5;167;01mValueError\u001b[39;00m(\n\u001b[1;32m    263\u001b[0m         \u001b[38;5;124m\"\u001b[39m\u001b[38;5;124mcannot specify integer `bins` when input data contains infinity\u001b[39m\u001b[38;5;124m\"\u001b[39m\n\u001b[1;32m    264\u001b[0m     )\n",
      "File \u001b[0;32m/opt/homebrew/anaconda3/lib/python3.9/site-packages/pandas/core/reshape/tile.py:258\u001b[0m, in \u001b[0;36m<genexpr>\u001b[0;34m(.0)\u001b[0m\n\u001b[1;32m    255\u001b[0m     \u001b[38;5;28;01mraise\u001b[39;00m \u001b[38;5;167;01mValueError\u001b[39;00m(\u001b[38;5;124m\"\u001b[39m\u001b[38;5;124mCannot cut empty array\u001b[39m\u001b[38;5;124m\"\u001b[39m)\n\u001b[1;32m    257\u001b[0m rng \u001b[38;5;241m=\u001b[39m (nanops\u001b[38;5;241m.\u001b[39mnanmin(x), nanops\u001b[38;5;241m.\u001b[39mnanmax(x))\n\u001b[0;32m--> 258\u001b[0m mn, mx \u001b[38;5;241m=\u001b[39m (\u001b[43mmi\u001b[49m\u001b[43m \u001b[49m\u001b[38;5;241;43m+\u001b[39;49m\u001b[43m \u001b[49m\u001b[38;5;241;43m0.0\u001b[39;49m \u001b[38;5;28;01mfor\u001b[39;00m mi \u001b[38;5;129;01min\u001b[39;00m rng)\n\u001b[1;32m    260\u001b[0m \u001b[38;5;28;01mif\u001b[39;00m np\u001b[38;5;241m.\u001b[39misinf(mn) \u001b[38;5;129;01mor\u001b[39;00m np\u001b[38;5;241m.\u001b[39misinf(mx):\n\u001b[1;32m    261\u001b[0m     \u001b[38;5;66;03m# GH 24314\u001b[39;00m\n\u001b[1;32m    262\u001b[0m     \u001b[38;5;28;01mraise\u001b[39;00m \u001b[38;5;167;01mValueError\u001b[39;00m(\n\u001b[1;32m    263\u001b[0m         \u001b[38;5;124m\"\u001b[39m\u001b[38;5;124mcannot specify integer `bins` when input data contains infinity\u001b[39m\u001b[38;5;124m\"\u001b[39m\n\u001b[1;32m    264\u001b[0m     )\n",
      "\u001b[0;31mTypeError\u001b[0m: can only concatenate str (not \"float\") to str"
     ]
    }
   ],
   "source": [
    "#Bin the data into 4 equally sized intervals or bins and output how many values fall into each bin.\n",
    "\n",
    "pd.cut(numbers, 4).value_counts().sort"
   ]
  },
  {
   "cell_type": "code",
   "execution_count": null,
   "id": "905d3129",
   "metadata": {},
   "outputs": [],
   "source": [
    "Plot the binned data in a meaningful way. Be sure to include a title and axis labels.\n",
    "\n",
    "title 4 bins\n",
    "x count\n",
    "y $ bins\n"
   ]
  },
  {
   "cell_type": "code",
   "execution_count": null,
   "id": "b30fb55f",
   "metadata": {},
   "outputs": [],
   "source": [
    "Use pandas to create a Series named exam_scores from the following list:\n",
    "\n",
    "\n",
    "    [60, 86, 75, 62, 93, 71, 60, 83, 95, 78, 65, 72, 69, 81, 96, 80, 85, 92, 82, 78]\n"
   ]
  },
  {
   "cell_type": "code",
   "execution_count": 54,
   "id": "c97d50c6",
   "metadata": {},
   "outputs": [],
   "source": [
    "#How many elements are in the exam_scores Series?\n",
    "exam_scores = [60, 86, 75, 62, 93, 71, 60, 83, 95, 78, 65, 72, 69, 81, 96, 80, 85, 92, 82, 78]\n",
    "\n"
   ]
  },
  {
   "cell_type": "code",
   "execution_count": 56,
   "id": "c9ba4d47",
   "metadata": {},
   "outputs": [
    {
     "ename": "AttributeError",
     "evalue": "'list' object has no attribute 'size'",
     "output_type": "error",
     "traceback": [
      "\u001b[0;31m---------------------------------------------------------------------------\u001b[0m",
      "\u001b[0;31mAttributeError\u001b[0m                            Traceback (most recent call last)",
      "Input \u001b[0;32mIn [56]\u001b[0m, in \u001b[0;36m<cell line: 1>\u001b[0;34m()\u001b[0m\n\u001b[0;32m----> 1\u001b[0m \u001b[43mexam_scores\u001b[49m\u001b[38;5;241;43m.\u001b[39;49m\u001b[43msize\u001b[49m()\n",
      "\u001b[0;31mAttributeError\u001b[0m: 'list' object has no attribute 'size'"
     ]
    }
   ],
   "source": [
    "exam_scores.size()"
   ]
  },
  {
   "cell_type": "code",
   "execution_count": null,
   "id": "63dffe96",
   "metadata": {},
   "outputs": [],
   "source": [
    "exam.scores.dtype"
   ]
  },
  {
   "cell_type": "code",
   "execution_count": null,
   "id": "ee21c235",
   "metadata": {},
   "outputs": [],
   "source": [
    "exam_scores.max(), exam_scores.min(), exam_scores.mean(), exam_scores.median()"
   ]
  },
  {
   "cell_type": "code",
   "execution_count": null,
   "id": "e64e1440",
   "metadata": {},
   "outputs": [],
   "source": []
  },
  {
   "cell_type": "code",
   "execution_count": null,
   "id": "b1bd6248",
   "metadata": {},
   "outputs": [],
   "source": []
  },
  {
   "cell_type": "code",
   "execution_count": null,
   "id": "8169c80a",
   "metadata": {},
   "outputs": [],
   "source": [
    "Run the code to discover the minimum, the maximum, the mean, and the median scores for the exam_scores Series.\n",
    "\n"
   ]
  },
  {
   "cell_type": "code",
   "execution_count": null,
   "id": "d8752594",
   "metadata": {},
   "outputs": [],
   "source": [
    "Plot the Series in a meaningful way and make sure your chart has a title and axis labels.\n",
    "\n"
   ]
  },
  {
   "cell_type": "code",
   "execution_count": 57,
   "id": "169ec943",
   "metadata": {},
   "outputs": [
    {
     "ename": "SyntaxError",
     "evalue": "invalid syntax (1849887996.py, line 1)",
     "output_type": "error",
     "traceback": [
      "\u001b[0;36m  Input \u001b[0;32mIn [57]\u001b[0;36m\u001b[0m\n\u001b[0;31m    Write the code necessary to implement a curve for your exam_grades Series and save this as curved_grades.\u001b[0m\n\u001b[0m          ^\u001b[0m\n\u001b[0;31mSyntaxError\u001b[0m\u001b[0;31m:\u001b[0m invalid syntax\n"
     ]
    }
   ],
   "source": [
    "#Write the code necessary to implement a curve for your exam_grades Series and save this as curved_grades.\n",
    "#Add the necessary points to the highest grade to make it 100, and add the same number of points to every other \n",
    "#score in the Series as well.\n",
    "\n",
    "\n",
    "100 - exam_scores.max()\n",
    "curved_grades = exam_scores + (100-exam_scores.max())"
   ]
  },
  {
   "cell_type": "code",
   "execution_count": null,
   "id": "59faafbe",
   "metadata": {},
   "outputs": [],
   "source": [
    "#Use a method to convert each of the numeric values in the curved_grades Series into a categorical value of \n",
    "#letter grades. For example, 86 should be a 'B' and 95 should be an 'A'. Save this as a Series named letter_grades.\n",
    "#use .apply\n",
    " bin_edges = [0,70,75,80,90,100]\n",
    "    bin_labels = ['F', 'D', 'C', 'B','A']\n",
    "letter_grades = pd.cut(curved_grades, bins  = bin_edges, labels= bin_labels)"
   ]
  },
  {
   "cell_type": "code",
   "execution_count": null,
   "id": "2707d15b",
   "metadata": {},
   "outputs": [],
   "source": []
  },
  {
   "cell_type": "code",
   "execution_count": null,
   "id": "f898c312",
   "metadata": {},
   "outputs": [],
   "source": [
    "Plot your new categorical letter_grades Series in a meaninful way and include a title and axis labels.\n",
    "\n",
    "letter_grades.value_count().sort-index().plot.barh()\n",
    "plt.title('Curved Grades\")\n",
    "plt.show()"
   ]
  },
  {
   "cell_type": "code",
   "execution_count": null,
   "id": "b599cb77",
   "metadata": {},
   "outputs": [],
   "source": [
    "More Practice\n",
    "Revisit the exercises from https://gist.github.com/ryanorsinger/f7d7c1dd6a328730c04f3dc5c5c69f3a.\n",
    "\n",
    "After you complete each set of Series exercises, use any extra time you have to pursue the challenge below. \n",
    "You can work on these in the same notebook or file as the Series exercises or create a new practice notebook \n",
    "you can work in a little every day to keep your python and pandas skills sharp by trying to solve problems in \n",
    "multiple ways. These are not a part of the Series exercises grade, so don't worry if it takes you days or weeks \n",
    "to meet the challenge.\n",
    "\n",
    "Challenge yourself to be able to...\n",
    "\n",
    "solve each using vanilla python.\n",
    "\n",
    "solve each using list comprehensions.\n",
    "\n",
    "solve each by using a pandas Series for the data structure instead of lists and using vectorized operations\n",
    "instead of loops and list comprehensions."
   ]
  },
  {
   "cell_type": "code",
   "execution_count": null,
   "id": "cf842b2a",
   "metadata": {},
   "outputs": [],
   "source": []
  },
  {
   "cell_type": "code",
   "execution_count": null,
   "id": "b7def1a9",
   "metadata": {},
   "outputs": [],
   "source": []
  },
  {
   "cell_type": "code",
   "execution_count": null,
   "id": "38009bc9",
   "metadata": {},
   "outputs": [],
   "source": []
  },
  {
   "cell_type": "code",
   "execution_count": null,
   "id": "6c59d804",
   "metadata": {},
   "outputs": [],
   "source": []
  }
 ],
 "metadata": {
  "kernelspec": {
   "display_name": "Python 3 (ipykernel)",
   "language": "python",
   "name": "python3"
  },
  "language_info": {
   "codemirror_mode": {
    "name": "ipython",
    "version": 3
   },
   "file_extension": ".py",
   "mimetype": "text/x-python",
   "name": "python",
   "nbconvert_exporter": "python",
   "pygments_lexer": "ipython3",
   "version": "3.9.12"
  }
 },
 "nbformat": 4,
 "nbformat_minor": 5
}
